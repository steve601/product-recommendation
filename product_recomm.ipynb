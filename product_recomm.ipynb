{
 "cells": [
  {
   "cell_type": "markdown",
   "id": "b9dfbfbf",
   "metadata": {},
   "source": [
    "### Importing libraries"
   ]
  },
  {
   "cell_type": "code",
   "execution_count": 1,
   "id": "a1ba4309",
   "metadata": {},
   "outputs": [],
   "source": [
    "import pandas as pd\n",
    "import numpy as np\n",
    "import string\n",
    "import re\n",
    "import warnings\n",
    "warnings.filterwarnings(\"ignore\")"
   ]
  },
  {
   "cell_type": "markdown",
   "id": "01893f86",
   "metadata": {},
   "source": [
    "### Reading dataset"
   ]
  },
  {
   "cell_type": "code",
   "execution_count": 2,
   "id": "667c67b6",
   "metadata": {
    "scrolled": true
   },
   "outputs": [
    {
     "data": {
      "text/html": [
       "<div>\n",
       "<style scoped>\n",
       "    .dataframe tbody tr th:only-of-type {\n",
       "        vertical-align: middle;\n",
       "    }\n",
       "\n",
       "    .dataframe tbody tr th {\n",
       "        vertical-align: top;\n",
       "    }\n",
       "\n",
       "    .dataframe thead th {\n",
       "        text-align: right;\n",
       "    }\n",
       "</style>\n",
       "<table border=\"1\" class=\"dataframe\">\n",
       "  <thead>\n",
       "    <tr style=\"text-align: right;\">\n",
       "      <th></th>\n",
       "      <th>Product_name</th>\n",
       "      <th>Product_id</th>\n",
       "      <th>Product_Category</th>\n",
       "      <th>price</th>\n",
       "      <th>Professional_Publication</th>\n",
       "      <th>Region_address</th>\n",
       "      <th>Local_address</th>\n",
       "    </tr>\n",
       "  </thead>\n",
       "  <tbody>\n",
       "    <tr>\n",
       "      <th>0</th>\n",
       "      <td>\"chambre a coucher \"</td>\n",
       "      <td>\"40008817\"</td>\n",
       "      <td>\"Meubles et décoration \"</td>\n",
       "      <td>1 800</td>\n",
       "      <td>\"private\"</td>\n",
       "      <td>\"Grand Casablanca\"</td>\n",
       "      <td>\"Casablanca\"</td>\n",
       "    </tr>\n",
       "    <tr>\n",
       "      <th>1</th>\n",
       "      <td>\"Comte free fire\"</td>\n",
       "      <td>\"40008816\"</td>\n",
       "      <td>\"Jeux vidéo et consoles \"</td>\n",
       "      <td></td>\n",
       "      <td>\"private\"</td>\n",
       "      <td>\"Grand Casablanca\"</td>\n",
       "      <td>\"Casablanca\"</td>\n",
       "    </tr>\n",
       "    <tr>\n",
       "      <th>2</th>\n",
       "      <td>\"Iphone 6 plus\"</td>\n",
       "      <td>\"40008815\"</td>\n",
       "      <td>\"Téléphones \"</td>\n",
       "      <td></td>\n",
       "      <td>\"private\"</td>\n",
       "      <td>\"Grand Casablanca\"</td>\n",
       "      <td>\"Casablanca\"</td>\n",
       "    </tr>\n",
       "    <tr>\n",
       "      <th>3</th>\n",
       "      <td>\"Renault \"</td>\n",
       "      <td>\"40008814\"</td>\n",
       "      <td>\"Voitures \"</td>\n",
       "      <td></td>\n",
       "      <td>\"private\"</td>\n",
       "      <td>\"Chaouia-Ouardigha\"</td>\n",
       "      <td>\"Settat\"</td>\n",
       "    </tr>\n",
       "    <tr>\n",
       "      <th>4</th>\n",
       "      <td>\"PS3 SLIM 360 GB \"</td>\n",
       "      <td>\"40008812\"</td>\n",
       "      <td>\"Jeux vidéo et consoles \"</td>\n",
       "      <td>1 400</td>\n",
       "      <td>\"private\"</td>\n",
       "      <td>\"Rabat-Salé-Zemmour-Zaër\"</td>\n",
       "      <td>\"Sala Al-Jadida\"</td>\n",
       "    </tr>\n",
       "  </tbody>\n",
       "</table>\n",
       "</div>"
      ],
      "text/plain": [
       "           Product_name  Product_id           Product_Category  price  \\\n",
       "0  \"chambre a coucher \"  \"40008817\"   \"Meubles et décoration \"  1 800   \n",
       "1     \"Comte free fire\"  \"40008816\"  \"Jeux vidéo et consoles \"          \n",
       "2       \"Iphone 6 plus\"  \"40008815\"              \"Téléphones \"          \n",
       "3            \"Renault \"  \"40008814\"                \"Voitures \"          \n",
       "4    \"PS3 SLIM 360 GB \"  \"40008812\"  \"Jeux vidéo et consoles \"  1 400   \n",
       "\n",
       "  Professional_Publication             Region_address     Local_address  \n",
       "0                \"private\"         \"Grand Casablanca\"      \"Casablanca\"  \n",
       "1                \"private\"         \"Grand Casablanca\"      \"Casablanca\"  \n",
       "2                \"private\"         \"Grand Casablanca\"      \"Casablanca\"  \n",
       "3                \"private\"        \"Chaouia-Ouardigha\"          \"Settat\"  \n",
       "4                \"private\"  \"Rabat-Salé-Zemmour-Zaër\"  \"Sala Al-Jadida\"  "
      ]
     },
     "execution_count": 2,
     "metadata": {},
     "output_type": "execute_result"
    }
   ],
   "source": [
    "df = pd.read_csv('ProductsData.csv',encoding='iso-8859-1')\n",
    "df.head()"
   ]
  },
  {
   "cell_type": "code",
   "execution_count": 3,
   "id": "16dd5ebc",
   "metadata": {},
   "outputs": [
    {
     "data": {
      "text/plain": [
       "(4350, 7)"
      ]
     },
     "execution_count": 3,
     "metadata": {},
     "output_type": "execute_result"
    }
   ],
   "source": [
    "df.shape"
   ]
  },
  {
   "cell_type": "code",
   "execution_count": 4,
   "id": "0d6619f2",
   "metadata": {},
   "outputs": [
    {
     "name": "stdout",
     "output_type": "stream",
     "text": [
      "<class 'pandas.core.frame.DataFrame'>\n",
      "RangeIndex: 4350 entries, 0 to 4349\n",
      "Data columns (total 7 columns):\n",
      " #   Column                    Non-Null Count  Dtype \n",
      "---  ------                    --------------  ----- \n",
      " 0   Product_name              4350 non-null   object\n",
      " 1   Product_id                4350 non-null   object\n",
      " 2   Product_Category          4350 non-null   object\n",
      " 3   price                     3580 non-null   object\n",
      " 4   Professional_Publication  4350 non-null   object\n",
      " 5   Region_address            4350 non-null   object\n",
      " 6   Local_address             4350 non-null   object\n",
      "dtypes: object(7)\n",
      "memory usage: 238.0+ KB\n"
     ]
    }
   ],
   "source": [
    "df.info()"
   ]
  },
  {
   "cell_type": "code",
   "execution_count": 5,
   "id": "d2bd97c7",
   "metadata": {},
   "outputs": [
    {
     "data": {
      "text/plain": [
       "Index(['Product_name', 'Product_id', 'Product_Category', 'price',\n",
       "       'Professional_Publication', 'Region_address', 'Local_address'],\n",
       "      dtype='object')"
      ]
     },
     "execution_count": 5,
     "metadata": {},
     "output_type": "execute_result"
    }
   ],
   "source": [
    "df.columns"
   ]
  },
  {
   "cell_type": "code",
   "execution_count": 6,
   "id": "a0d97e5c",
   "metadata": {},
   "outputs": [],
   "source": [
    "#filtering out relevant columns\n",
    "df = df[['Product_name','Product_id','Product_Category','price','Professional_Publication']]"
   ]
  },
  {
   "cell_type": "code",
   "execution_count": 7,
   "id": "9dc89bdd",
   "metadata": {},
   "outputs": [
    {
     "data": {
      "text/html": [
       "<div>\n",
       "<style scoped>\n",
       "    .dataframe tbody tr th:only-of-type {\n",
       "        vertical-align: middle;\n",
       "    }\n",
       "\n",
       "    .dataframe tbody tr th {\n",
       "        vertical-align: top;\n",
       "    }\n",
       "\n",
       "    .dataframe thead th {\n",
       "        text-align: right;\n",
       "    }\n",
       "</style>\n",
       "<table border=\"1\" class=\"dataframe\">\n",
       "  <thead>\n",
       "    <tr style=\"text-align: right;\">\n",
       "      <th></th>\n",
       "      <th>Product_name</th>\n",
       "      <th>Product_id</th>\n",
       "      <th>Product_Category</th>\n",
       "      <th>price</th>\n",
       "      <th>Professional_Publication</th>\n",
       "    </tr>\n",
       "  </thead>\n",
       "  <tbody>\n",
       "    <tr>\n",
       "      <th>0</th>\n",
       "      <td>\"chambre a coucher \"</td>\n",
       "      <td>\"40008817\"</td>\n",
       "      <td>\"Meubles et décoration \"</td>\n",
       "      <td>1 800</td>\n",
       "      <td>\"private\"</td>\n",
       "    </tr>\n",
       "    <tr>\n",
       "      <th>1</th>\n",
       "      <td>\"Comte free fire\"</td>\n",
       "      <td>\"40008816\"</td>\n",
       "      <td>\"Jeux vidéo et consoles \"</td>\n",
       "      <td></td>\n",
       "      <td>\"private\"</td>\n",
       "    </tr>\n",
       "    <tr>\n",
       "      <th>2</th>\n",
       "      <td>\"Iphone 6 plus\"</td>\n",
       "      <td>\"40008815\"</td>\n",
       "      <td>\"Téléphones \"</td>\n",
       "      <td></td>\n",
       "      <td>\"private\"</td>\n",
       "    </tr>\n",
       "    <tr>\n",
       "      <th>3</th>\n",
       "      <td>\"Renault \"</td>\n",
       "      <td>\"40008814\"</td>\n",
       "      <td>\"Voitures \"</td>\n",
       "      <td></td>\n",
       "      <td>\"private\"</td>\n",
       "    </tr>\n",
       "    <tr>\n",
       "      <th>4</th>\n",
       "      <td>\"PS3 SLIM 360 GB \"</td>\n",
       "      <td>\"40008812\"</td>\n",
       "      <td>\"Jeux vidéo et consoles \"</td>\n",
       "      <td>1 400</td>\n",
       "      <td>\"private\"</td>\n",
       "    </tr>\n",
       "  </tbody>\n",
       "</table>\n",
       "</div>"
      ],
      "text/plain": [
       "           Product_name  Product_id           Product_Category  price  \\\n",
       "0  \"chambre a coucher \"  \"40008817\"   \"Meubles et décoration \"  1 800   \n",
       "1     \"Comte free fire\"  \"40008816\"  \"Jeux vidéo et consoles \"          \n",
       "2       \"Iphone 6 plus\"  \"40008815\"              \"Téléphones \"          \n",
       "3            \"Renault \"  \"40008814\"                \"Voitures \"          \n",
       "4    \"PS3 SLIM 360 GB \"  \"40008812\"  \"Jeux vidéo et consoles \"  1 400   \n",
       "\n",
       "  Professional_Publication  \n",
       "0                \"private\"  \n",
       "1                \"private\"  \n",
       "2                \"private\"  \n",
       "3                \"private\"  \n",
       "4                \"private\"  "
      ]
     },
     "execution_count": 7,
     "metadata": {},
     "output_type": "execute_result"
    }
   ],
   "source": [
    "df.head()"
   ]
  },
  {
   "cell_type": "code",
   "execution_count": 8,
   "id": "bc9ccb47",
   "metadata": {},
   "outputs": [],
   "source": [
    "#removing quotes in the individual values\n",
    "def remove_quotes(x):\n",
    "    x = x.replace('\"','')\n",
    "    return x"
   ]
  },
  {
   "cell_type": "code",
   "execution_count": 9,
   "id": "53ac65d5",
   "metadata": {},
   "outputs": [],
   "source": [
    "df['Product_name'] = df['Product_name'].apply(remove_quotes)\n",
    "df['Product_id'] = df['Product_id'].apply(remove_quotes)\n",
    "df['Product_Category'] = df['Product_Category'].apply(remove_quotes)\n",
    "df['Professional_Publication'] = df['Professional_Publication'].apply(remove_quotes)"
   ]
  },
  {
   "cell_type": "code",
   "execution_count": 10,
   "id": "195902fa",
   "metadata": {},
   "outputs": [
    {
     "data": {
      "text/html": [
       "<div>\n",
       "<style scoped>\n",
       "    .dataframe tbody tr th:only-of-type {\n",
       "        vertical-align: middle;\n",
       "    }\n",
       "\n",
       "    .dataframe tbody tr th {\n",
       "        vertical-align: top;\n",
       "    }\n",
       "\n",
       "    .dataframe thead th {\n",
       "        text-align: right;\n",
       "    }\n",
       "</style>\n",
       "<table border=\"1\" class=\"dataframe\">\n",
       "  <thead>\n",
       "    <tr style=\"text-align: right;\">\n",
       "      <th></th>\n",
       "      <th>Product_name</th>\n",
       "      <th>Product_id</th>\n",
       "      <th>Product_Category</th>\n",
       "      <th>price</th>\n",
       "      <th>Professional_Publication</th>\n",
       "    </tr>\n",
       "  </thead>\n",
       "  <tbody>\n",
       "    <tr>\n",
       "      <th>0</th>\n",
       "      <td>chambre a coucher</td>\n",
       "      <td>40008817</td>\n",
       "      <td>Meubles et décoration</td>\n",
       "      <td>1 800</td>\n",
       "      <td>private</td>\n",
       "    </tr>\n",
       "    <tr>\n",
       "      <th>1</th>\n",
       "      <td>Comte free fire</td>\n",
       "      <td>40008816</td>\n",
       "      <td>Jeux vidéo et consoles</td>\n",
       "      <td></td>\n",
       "      <td>private</td>\n",
       "    </tr>\n",
       "    <tr>\n",
       "      <th>2</th>\n",
       "      <td>Iphone 6 plus</td>\n",
       "      <td>40008815</td>\n",
       "      <td>Téléphones</td>\n",
       "      <td></td>\n",
       "      <td>private</td>\n",
       "    </tr>\n",
       "    <tr>\n",
       "      <th>3</th>\n",
       "      <td>Renault</td>\n",
       "      <td>40008814</td>\n",
       "      <td>Voitures</td>\n",
       "      <td></td>\n",
       "      <td>private</td>\n",
       "    </tr>\n",
       "    <tr>\n",
       "      <th>4</th>\n",
       "      <td>PS3 SLIM 360 GB</td>\n",
       "      <td>40008812</td>\n",
       "      <td>Jeux vidéo et consoles</td>\n",
       "      <td>1 400</td>\n",
       "      <td>private</td>\n",
       "    </tr>\n",
       "  </tbody>\n",
       "</table>\n",
       "</div>"
      ],
      "text/plain": [
       "         Product_name Product_id         Product_Category  price  \\\n",
       "0  chambre a coucher    40008817   Meubles et décoration   1 800   \n",
       "1     Comte free fire   40008816  Jeux vidéo et consoles           \n",
       "2       Iphone 6 plus   40008815              Téléphones           \n",
       "3            Renault    40008814                Voitures           \n",
       "4    PS3 SLIM 360 GB    40008812  Jeux vidéo et consoles   1 400   \n",
       "\n",
       "  Professional_Publication  \n",
       "0                  private  \n",
       "1                  private  \n",
       "2                  private  \n",
       "3                  private  \n",
       "4                  private  "
      ]
     },
     "execution_count": 10,
     "metadata": {},
     "output_type": "execute_result"
    }
   ],
   "source": [
    "df.head()"
   ]
  },
  {
   "cell_type": "code",
   "execution_count": 11,
   "id": "c8d44ff1",
   "metadata": {},
   "outputs": [
    {
     "name": "stdout",
     "output_type": "stream",
     "text": [
      "<class 'pandas.core.frame.DataFrame'>\n",
      "RangeIndex: 4350 entries, 0 to 4349\n",
      "Data columns (total 5 columns):\n",
      " #   Column                    Non-Null Count  Dtype \n",
      "---  ------                    --------------  ----- \n",
      " 0   Product_name              4350 non-null   object\n",
      " 1   Product_id                4350 non-null   object\n",
      " 2   Product_Category          4350 non-null   object\n",
      " 3   price                     3580 non-null   object\n",
      " 4   Professional_Publication  4350 non-null   object\n",
      "dtypes: object(5)\n",
      "memory usage: 170.0+ KB\n"
     ]
    }
   ],
   "source": [
    "df.info()"
   ]
  },
  {
   "cell_type": "code",
   "execution_count": 12,
   "id": "cc041a48",
   "metadata": {},
   "outputs": [
    {
     "data": {
      "text/html": [
       "<div>\n",
       "<style scoped>\n",
       "    .dataframe tbody tr th:only-of-type {\n",
       "        vertical-align: middle;\n",
       "    }\n",
       "\n",
       "    .dataframe tbody tr th {\n",
       "        vertical-align: top;\n",
       "    }\n",
       "\n",
       "    .dataframe thead th {\n",
       "        text-align: right;\n",
       "    }\n",
       "</style>\n",
       "<table border=\"1\" class=\"dataframe\">\n",
       "  <thead>\n",
       "    <tr style=\"text-align: right;\">\n",
       "      <th></th>\n",
       "      <th>Product_name</th>\n",
       "      <th>Product_id</th>\n",
       "      <th>Product_Category</th>\n",
       "      <th>price</th>\n",
       "      <th>Professional_Publication</th>\n",
       "    </tr>\n",
       "  </thead>\n",
       "  <tbody>\n",
       "    <tr>\n",
       "      <th>0</th>\n",
       "      <td>chambre a coucher</td>\n",
       "      <td>40008817</td>\n",
       "      <td>Meubles et décoration</td>\n",
       "      <td>1 800</td>\n",
       "      <td>private</td>\n",
       "    </tr>\n",
       "    <tr>\n",
       "      <th>1</th>\n",
       "      <td>Comte free fire</td>\n",
       "      <td>40008816</td>\n",
       "      <td>Jeux vidéo et consoles</td>\n",
       "      <td></td>\n",
       "      <td>private</td>\n",
       "    </tr>\n",
       "    <tr>\n",
       "      <th>2</th>\n",
       "      <td>Iphone 6 plus</td>\n",
       "      <td>40008815</td>\n",
       "      <td>Téléphones</td>\n",
       "      <td></td>\n",
       "      <td>private</td>\n",
       "    </tr>\n",
       "    <tr>\n",
       "      <th>3</th>\n",
       "      <td>Renault</td>\n",
       "      <td>40008814</td>\n",
       "      <td>Voitures</td>\n",
       "      <td></td>\n",
       "      <td>private</td>\n",
       "    </tr>\n",
       "    <tr>\n",
       "      <th>4</th>\n",
       "      <td>PS3 SLIM 360 GB</td>\n",
       "      <td>40008812</td>\n",
       "      <td>Jeux vidéo et consoles</td>\n",
       "      <td>1 400</td>\n",
       "      <td>private</td>\n",
       "    </tr>\n",
       "  </tbody>\n",
       "</table>\n",
       "</div>"
      ],
      "text/plain": [
       "         Product_name Product_id         Product_Category  price  \\\n",
       "0  chambre a coucher    40008817   Meubles et décoration   1 800   \n",
       "1     Comte free fire   40008816  Jeux vidéo et consoles           \n",
       "2       Iphone 6 plus   40008815              Téléphones           \n",
       "3            Renault    40008814                Voitures           \n",
       "4    PS3 SLIM 360 GB    40008812  Jeux vidéo et consoles   1 400   \n",
       "\n",
       "  Professional_Publication  \n",
       "0                  private  \n",
       "1                  private  \n",
       "2                  private  \n",
       "3                  private  \n",
       "4                  private  "
      ]
     },
     "execution_count": 12,
     "metadata": {},
     "output_type": "execute_result"
    }
   ],
   "source": [
    "df.head()"
   ]
  },
  {
   "cell_type": "code",
   "execution_count": 13,
   "id": "1b9ae02c",
   "metadata": {},
   "outputs": [],
   "source": [
    "#removing saces between the values of the price\n",
    "df['price'] = df['price'].str.replace(' ', '')"
   ]
  },
  {
   "cell_type": "code",
   "execution_count": 14,
   "id": "920d8a09",
   "metadata": {},
   "outputs": [
    {
     "data": {
      "text/html": [
       "<div>\n",
       "<style scoped>\n",
       "    .dataframe tbody tr th:only-of-type {\n",
       "        vertical-align: middle;\n",
       "    }\n",
       "\n",
       "    .dataframe tbody tr th {\n",
       "        vertical-align: top;\n",
       "    }\n",
       "\n",
       "    .dataframe thead th {\n",
       "        text-align: right;\n",
       "    }\n",
       "</style>\n",
       "<table border=\"1\" class=\"dataframe\">\n",
       "  <thead>\n",
       "    <tr style=\"text-align: right;\">\n",
       "      <th></th>\n",
       "      <th>Product_name</th>\n",
       "      <th>Product_id</th>\n",
       "      <th>Product_Category</th>\n",
       "      <th>price</th>\n",
       "      <th>Professional_Publication</th>\n",
       "    </tr>\n",
       "  </thead>\n",
       "  <tbody>\n",
       "    <tr>\n",
       "      <th>0</th>\n",
       "      <td>chambre a coucher</td>\n",
       "      <td>40008817</td>\n",
       "      <td>Meubles et décoration</td>\n",
       "      <td>1800</td>\n",
       "      <td>private</td>\n",
       "    </tr>\n",
       "    <tr>\n",
       "      <th>1</th>\n",
       "      <td>Comte free fire</td>\n",
       "      <td>40008816</td>\n",
       "      <td>Jeux vidéo et consoles</td>\n",
       "      <td></td>\n",
       "      <td>private</td>\n",
       "    </tr>\n",
       "    <tr>\n",
       "      <th>2</th>\n",
       "      <td>Iphone 6 plus</td>\n",
       "      <td>40008815</td>\n",
       "      <td>Téléphones</td>\n",
       "      <td></td>\n",
       "      <td>private</td>\n",
       "    </tr>\n",
       "    <tr>\n",
       "      <th>3</th>\n",
       "      <td>Renault</td>\n",
       "      <td>40008814</td>\n",
       "      <td>Voitures</td>\n",
       "      <td></td>\n",
       "      <td>private</td>\n",
       "    </tr>\n",
       "    <tr>\n",
       "      <th>4</th>\n",
       "      <td>PS3 SLIM 360 GB</td>\n",
       "      <td>40008812</td>\n",
       "      <td>Jeux vidéo et consoles</td>\n",
       "      <td>1400</td>\n",
       "      <td>private</td>\n",
       "    </tr>\n",
       "  </tbody>\n",
       "</table>\n",
       "</div>"
      ],
      "text/plain": [
       "         Product_name Product_id         Product_Category price  \\\n",
       "0  chambre a coucher    40008817   Meubles et décoration   1800   \n",
       "1     Comte free fire   40008816  Jeux vidéo et consoles          \n",
       "2       Iphone 6 plus   40008815              Téléphones          \n",
       "3            Renault    40008814                Voitures          \n",
       "4    PS3 SLIM 360 GB    40008812  Jeux vidéo et consoles   1400   \n",
       "\n",
       "  Professional_Publication  \n",
       "0                  private  \n",
       "1                  private  \n",
       "2                  private  \n",
       "3                  private  \n",
       "4                  private  "
      ]
     },
     "execution_count": 14,
     "metadata": {},
     "output_type": "execute_result"
    }
   ],
   "source": [
    "df.head()"
   ]
  },
  {
   "cell_type": "code",
   "execution_count": 15,
   "id": "f0fdc8ef",
   "metadata": {},
   "outputs": [
    {
     "data": {
      "text/plain": [
       "'!\"#$%&\\'()*+,-./:;<=>?@[\\\\]^_`{|}~'"
      ]
     },
     "execution_count": 15,
     "metadata": {},
     "output_type": "execute_result"
    }
   ],
   "source": [
    "punc = string.punctuation\n",
    "punc"
   ]
  },
  {
   "cell_type": "code",
   "execution_count": 16,
   "id": "46d25452",
   "metadata": {
    "scrolled": false
   },
   "outputs": [
    {
     "data": {
      "text/html": [
       "<div>\n",
       "<style scoped>\n",
       "    .dataframe tbody tr th:only-of-type {\n",
       "        vertical-align: middle;\n",
       "    }\n",
       "\n",
       "    .dataframe tbody tr th {\n",
       "        vertical-align: top;\n",
       "    }\n",
       "\n",
       "    .dataframe thead th {\n",
       "        text-align: right;\n",
       "    }\n",
       "</style>\n",
       "<table border=\"1\" class=\"dataframe\">\n",
       "  <thead>\n",
       "    <tr style=\"text-align: right;\">\n",
       "      <th></th>\n",
       "      <th>Product_name</th>\n",
       "      <th>Product_id</th>\n",
       "      <th>Product_Category</th>\n",
       "      <th>price</th>\n",
       "      <th>Professional_Publication</th>\n",
       "    </tr>\n",
       "  </thead>\n",
       "  <tbody>\n",
       "    <tr>\n",
       "      <th>4340</th>\n",
       "      <td>siera grand frigidaire</td>\n",
       "      <td>39234547</td>\n",
       "      <td>Electroménager et vaisselles</td>\n",
       "      <td>3500</td>\n",
       "      <td>private</td>\n",
       "    </tr>\n",
       "    <tr>\n",
       "      <th>4341</th>\n",
       "      <td>samsung s10e</td>\n",
       "      <td>39234538</td>\n",
       "      <td>Téléphones</td>\n",
       "      <td>3100</td>\n",
       "      <td>private</td>\n",
       "    </tr>\n",
       "    <tr>\n",
       "      <th>4342</th>\n",
       "      <td>407</td>\n",
       "      <td>39234535</td>\n",
       "      <td>Voitures</td>\n",
       "      <td>34000</td>\n",
       "      <td>private</td>\n",
       "    </tr>\n",
       "    <tr>\n",
       "      <th>4343</th>\n",
       "      <td>Megane 2 diesel</td>\n",
       "      <td>39234534</td>\n",
       "      <td>Voitures</td>\n",
       "      <td>63000</td>\n",
       "      <td>private</td>\n",
       "    </tr>\n",
       "    <tr>\n",
       "      <th>4344</th>\n",
       "      <td>PC portable Asus</td>\n",
       "      <td>39234530</td>\n",
       "      <td>Ordinateurs portables</td>\n",
       "      <td>5000</td>\n",
       "      <td>private</td>\n",
       "    </tr>\n",
       "    <tr>\n",
       "      <th>4345</th>\n",
       "      <td>XN-C11</td>\n",
       "      <td>39234529</td>\n",
       "      <td>Instruments de musique</td>\n",
       "      <td>90</td>\n",
       "      <td>private</td>\n",
       "    </tr>\n",
       "    <tr>\n",
       "      <th>4346</th>\n",
       "      <td>Uno</td>\n",
       "      <td>39234527</td>\n",
       "      <td>Voitures</td>\n",
       "      <td>20000</td>\n",
       "      <td>private</td>\n",
       "    </tr>\n",
       "    <tr>\n",
       "      <th>4347</th>\n",
       "      <td>???? ????????? ????? ????</td>\n",
       "      <td>39234526</td>\n",
       "      <td>Matériels professionnels</td>\n",
       "      <td></td>\n",
       "      <td>pro</td>\n",
       "    </tr>\n",
       "    <tr>\n",
       "      <th>4348</th>\n",
       "      <td>Poussette Bugaboo cameleon 3 black</td>\n",
       "      <td>39234524</td>\n",
       "      <td>Equipements pour enfant et bébé</td>\n",
       "      <td>1850</td>\n",
       "      <td>private</td>\n",
       "    </tr>\n",
       "    <tr>\n",
       "      <th>4349</th>\n",
       "      <td>Iphone xs max</td>\n",
       "      <td>39234523</td>\n",
       "      <td>Téléphones</td>\n",
       "      <td>NaN</td>\n",
       "      <td>private</td>\n",
       "    </tr>\n",
       "  </tbody>\n",
       "</table>\n",
       "</div>"
      ],
      "text/plain": [
       "                            Product_name Product_id  \\\n",
       "4340              siera grand frigidaire   39234547   \n",
       "4341                        samsung s10e   39234538   \n",
       "4342                                 407   39234535   \n",
       "4343                     Megane 2 diesel   39234534   \n",
       "4344                    PC portable Asus   39234530   \n",
       "4345                              XN-C11   39234529   \n",
       "4346                                 Uno   39234527   \n",
       "4347           ???? ????????? ????? ????   39234526   \n",
       "4348  Poussette Bugaboo cameleon 3 black   39234524   \n",
       "4349                       Iphone xs max   39234523   \n",
       "\n",
       "                      Product_Category  price Professional_Publication  \n",
       "4340     Electroménager et vaisselles    3500                  private  \n",
       "4341                       Téléphones    3100                  private  \n",
       "4342                         Voitures   34000                  private  \n",
       "4343                         Voitures   63000                  private  \n",
       "4344            Ordinateurs portables    5000                  private  \n",
       "4345           Instruments de musique      90                  private  \n",
       "4346                         Voitures   20000                  private  \n",
       "4347         Matériels professionnels                              pro  \n",
       "4348  Equipements pour enfant et bébé    1850                  private  \n",
       "4349                       Téléphones     NaN                  private  "
      ]
     },
     "execution_count": 16,
     "metadata": {},
     "output_type": "execute_result"
    }
   ],
   "source": [
    "df.tail(10)"
   ]
  },
  {
   "cell_type": "code",
   "execution_count": 17,
   "id": "fd3d6b14",
   "metadata": {},
   "outputs": [],
   "source": [
    "#renaming columns into meaningful names\n",
    "df = df.rename(columns={'Product_name':'name','Product_id':'id','Product_Category':'category','Professional_Publication':'publication'})"
   ]
  },
  {
   "cell_type": "code",
   "execution_count": 18,
   "id": "ab3e630c",
   "metadata": {},
   "outputs": [],
   "source": [
    "#let's remove some special characters in categorica columns\n",
    "for char in punc:\n",
    "    df['name'] = df['name'].str.replace(char, '')\n",
    "    df['category'] = df['category'].str.replace(char, '')\n",
    "    df['publication'] = df['publication'].str.replace(char,'')"
   ]
  },
  {
   "cell_type": "code",
   "execution_count": 19,
   "id": "f4b98698",
   "metadata": {},
   "outputs": [],
   "source": [
    "#Create a function that replaces blank spaces with nan\n",
    "def clean(x):\n",
    "    if x.isspace():\n",
    "        return np.nan\n",
    "    else:\n",
    "        return x"
   ]
  },
  {
   "cell_type": "code",
   "execution_count": 20,
   "id": "907d0b63",
   "metadata": {},
   "outputs": [],
   "source": [
    "df['name'] = df['name'].apply(clean)"
   ]
  },
  {
   "cell_type": "code",
   "execution_count": 21,
   "id": "1521df60",
   "metadata": {},
   "outputs": [],
   "source": [
    "df['id'] = df['id'].apply(clean)\n",
    "df['category'] = df['category'].apply(clean)\n",
    "df['publication'] = df['publication'].apply(clean)"
   ]
  },
  {
   "cell_type": "code",
   "execution_count": 22,
   "id": "e4195905",
   "metadata": {
    "scrolled": false
   },
   "outputs": [
    {
     "data": {
      "text/html": [
       "<div>\n",
       "<style scoped>\n",
       "    .dataframe tbody tr th:only-of-type {\n",
       "        vertical-align: middle;\n",
       "    }\n",
       "\n",
       "    .dataframe tbody tr th {\n",
       "        vertical-align: top;\n",
       "    }\n",
       "\n",
       "    .dataframe thead th {\n",
       "        text-align: right;\n",
       "    }\n",
       "</style>\n",
       "<table border=\"1\" class=\"dataframe\">\n",
       "  <thead>\n",
       "    <tr style=\"text-align: right;\">\n",
       "      <th></th>\n",
       "      <th>name</th>\n",
       "      <th>id</th>\n",
       "      <th>category</th>\n",
       "      <th>price</th>\n",
       "      <th>publication</th>\n",
       "    </tr>\n",
       "  </thead>\n",
       "  <tbody>\n",
       "    <tr>\n",
       "      <th>4345</th>\n",
       "      <td>XNC11</td>\n",
       "      <td>39234529</td>\n",
       "      <td>Instruments de musique</td>\n",
       "      <td>90</td>\n",
       "      <td>private</td>\n",
       "    </tr>\n",
       "    <tr>\n",
       "      <th>4346</th>\n",
       "      <td>Uno</td>\n",
       "      <td>39234527</td>\n",
       "      <td>Voitures</td>\n",
       "      <td>20000</td>\n",
       "      <td>private</td>\n",
       "    </tr>\n",
       "    <tr>\n",
       "      <th>4347</th>\n",
       "      <td>NaN</td>\n",
       "      <td>39234526</td>\n",
       "      <td>Matériels professionnels</td>\n",
       "      <td></td>\n",
       "      <td>pro</td>\n",
       "    </tr>\n",
       "    <tr>\n",
       "      <th>4348</th>\n",
       "      <td>Poussette Bugaboo cameleon 3 black</td>\n",
       "      <td>39234524</td>\n",
       "      <td>Equipements pour enfant et bébé</td>\n",
       "      <td>1850</td>\n",
       "      <td>private</td>\n",
       "    </tr>\n",
       "    <tr>\n",
       "      <th>4349</th>\n",
       "      <td>Iphone xs max</td>\n",
       "      <td>39234523</td>\n",
       "      <td>Téléphones</td>\n",
       "      <td>NaN</td>\n",
       "      <td>private</td>\n",
       "    </tr>\n",
       "  </tbody>\n",
       "</table>\n",
       "</div>"
      ],
      "text/plain": [
       "                                    name        id  \\\n",
       "4345                               XNC11  39234529   \n",
       "4346                                 Uno  39234527   \n",
       "4347                                 NaN  39234526   \n",
       "4348  Poussette Bugaboo cameleon 3 black  39234524   \n",
       "4349                       Iphone xs max  39234523   \n",
       "\n",
       "                              category  price publication  \n",
       "4345           Instruments de musique      90     private  \n",
       "4346                         Voitures   20000     private  \n",
       "4347         Matériels professionnels                 pro  \n",
       "4348  Equipements pour enfant et bébé    1850     private  \n",
       "4349                       Téléphones     NaN     private  "
      ]
     },
     "execution_count": 22,
     "metadata": {},
     "output_type": "execute_result"
    }
   ],
   "source": [
    "df.tail()"
   ]
  },
  {
   "cell_type": "code",
   "execution_count": 23,
   "id": "76238611",
   "metadata": {},
   "outputs": [
    {
     "name": "stdout",
     "output_type": "stream",
     "text": [
      "<class 'pandas.core.frame.DataFrame'>\n",
      "RangeIndex: 4350 entries, 0 to 4349\n",
      "Data columns (total 5 columns):\n",
      " #   Column       Non-Null Count  Dtype \n",
      "---  ------       --------------  ----- \n",
      " 0   name         4105 non-null   object\n",
      " 1   id           4350 non-null   object\n",
      " 2   category     4350 non-null   object\n",
      " 3   price        3580 non-null   object\n",
      " 4   publication  4350 non-null   object\n",
      "dtypes: object(5)\n",
      "memory usage: 170.0+ KB\n"
     ]
    }
   ],
   "source": [
    "df.info()"
   ]
  },
  {
   "cell_type": "code",
   "execution_count": 24,
   "id": "ebcbee04",
   "metadata": {},
   "outputs": [],
   "source": [
    "#let's do the same for 'price' column\n",
    "def clean2(x):\n",
    "    if isinstance(x, str) and x.isspace(): # checking whether it's a string\n",
    "        return np.nan\n",
    "    else:\n",
    "        return x"
   ]
  },
  {
   "cell_type": "code",
   "execution_count": 25,
   "id": "38f4da77",
   "metadata": {},
   "outputs": [],
   "source": [
    "df['price'] = df['price'].apply(clean2)"
   ]
  },
  {
   "cell_type": "code",
   "execution_count": 26,
   "id": "9b3a0a58",
   "metadata": {},
   "outputs": [
    {
     "data": {
      "text/html": [
       "<div>\n",
       "<style scoped>\n",
       "    .dataframe tbody tr th:only-of-type {\n",
       "        vertical-align: middle;\n",
       "    }\n",
       "\n",
       "    .dataframe tbody tr th {\n",
       "        vertical-align: top;\n",
       "    }\n",
       "\n",
       "    .dataframe thead th {\n",
       "        text-align: right;\n",
       "    }\n",
       "</style>\n",
       "<table border=\"1\" class=\"dataframe\">\n",
       "  <thead>\n",
       "    <tr style=\"text-align: right;\">\n",
       "      <th></th>\n",
       "      <th>name</th>\n",
       "      <th>id</th>\n",
       "      <th>category</th>\n",
       "      <th>price</th>\n",
       "      <th>publication</th>\n",
       "    </tr>\n",
       "  </thead>\n",
       "  <tbody>\n",
       "    <tr>\n",
       "      <th>4345</th>\n",
       "      <td>XNC11</td>\n",
       "      <td>39234529</td>\n",
       "      <td>Instruments de musique</td>\n",
       "      <td>90</td>\n",
       "      <td>private</td>\n",
       "    </tr>\n",
       "    <tr>\n",
       "      <th>4346</th>\n",
       "      <td>Uno</td>\n",
       "      <td>39234527</td>\n",
       "      <td>Voitures</td>\n",
       "      <td>20000</td>\n",
       "      <td>private</td>\n",
       "    </tr>\n",
       "    <tr>\n",
       "      <th>4347</th>\n",
       "      <td>NaN</td>\n",
       "      <td>39234526</td>\n",
       "      <td>Matériels professionnels</td>\n",
       "      <td>NaN</td>\n",
       "      <td>pro</td>\n",
       "    </tr>\n",
       "    <tr>\n",
       "      <th>4348</th>\n",
       "      <td>Poussette Bugaboo cameleon 3 black</td>\n",
       "      <td>39234524</td>\n",
       "      <td>Equipements pour enfant et bébé</td>\n",
       "      <td>1850</td>\n",
       "      <td>private</td>\n",
       "    </tr>\n",
       "    <tr>\n",
       "      <th>4349</th>\n",
       "      <td>Iphone xs max</td>\n",
       "      <td>39234523</td>\n",
       "      <td>Téléphones</td>\n",
       "      <td>NaN</td>\n",
       "      <td>private</td>\n",
       "    </tr>\n",
       "  </tbody>\n",
       "</table>\n",
       "</div>"
      ],
      "text/plain": [
       "                                    name        id  \\\n",
       "4345                               XNC11  39234529   \n",
       "4346                                 Uno  39234527   \n",
       "4347                                 NaN  39234526   \n",
       "4348  Poussette Bugaboo cameleon 3 black  39234524   \n",
       "4349                       Iphone xs max  39234523   \n",
       "\n",
       "                              category  price publication  \n",
       "4345           Instruments de musique      90     private  \n",
       "4346                         Voitures   20000     private  \n",
       "4347         Matériels professionnels     NaN         pro  \n",
       "4348  Equipements pour enfant et bébé    1850     private  \n",
       "4349                       Téléphones     NaN     private  "
      ]
     },
     "execution_count": 26,
     "metadata": {},
     "output_type": "execute_result"
    }
   ],
   "source": [
    "df.tail()"
   ]
  },
  {
   "cell_type": "code",
   "execution_count": 27,
   "id": "1df9065e",
   "metadata": {},
   "outputs": [
    {
     "name": "stdout",
     "output_type": "stream",
     "text": [
      "<class 'pandas.core.frame.DataFrame'>\n",
      "RangeIndex: 4350 entries, 0 to 4349\n",
      "Data columns (total 5 columns):\n",
      " #   Column       Non-Null Count  Dtype \n",
      "---  ------       --------------  ----- \n",
      " 0   name         4105 non-null   object\n",
      " 1   id           4350 non-null   object\n",
      " 2   category     4350 non-null   object\n",
      " 3   price        3129 non-null   object\n",
      " 4   publication  4350 non-null   object\n",
      "dtypes: object(5)\n",
      "memory usage: 170.0+ KB\n"
     ]
    }
   ],
   "source": [
    "df.info()"
   ]
  },
  {
   "cell_type": "code",
   "execution_count": 28,
   "id": "3a08870e",
   "metadata": {},
   "outputs": [],
   "source": [
    "#removing null values\n",
    "df.dropna(inplace = True)"
   ]
  },
  {
   "cell_type": "code",
   "execution_count": 30,
   "id": "b17c81f1",
   "metadata": {
    "scrolled": true
   },
   "outputs": [],
   "source": [
    "#changing dtypes of 'id' and 'price' columns to their appropriate\n",
    "df['price'] = df['price'].astype(float)\n",
    "df['id'] = df['id'].astype(int)"
   ]
  },
  {
   "cell_type": "code",
   "execution_count": 32,
   "id": "1d201fbb",
   "metadata": {},
   "outputs": [
    {
     "name": "stdout",
     "output_type": "stream",
     "text": [
      "<class 'pandas.core.frame.DataFrame'>\n",
      "Int64Index: 2969 entries, 0 to 4348\n",
      "Data columns (total 5 columns):\n",
      " #   Column       Non-Null Count  Dtype  \n",
      "---  ------       --------------  -----  \n",
      " 0   name         2969 non-null   object \n",
      " 1   id           2969 non-null   int32  \n",
      " 2   category     2969 non-null   object \n",
      " 3   price        2969 non-null   float64\n",
      " 4   publication  2969 non-null   object \n",
      "dtypes: float64(1), int32(1), object(3)\n",
      "memory usage: 127.6+ KB\n"
     ]
    }
   ],
   "source": [
    "df.info()"
   ]
  },
  {
   "cell_type": "code",
   "execution_count": 33,
   "id": "40b42d11",
   "metadata": {},
   "outputs": [
    {
     "data": {
      "text/html": [
       "<div>\n",
       "<style scoped>\n",
       "    .dataframe tbody tr th:only-of-type {\n",
       "        vertical-align: middle;\n",
       "    }\n",
       "\n",
       "    .dataframe tbody tr th {\n",
       "        vertical-align: top;\n",
       "    }\n",
       "\n",
       "    .dataframe thead th {\n",
       "        text-align: right;\n",
       "    }\n",
       "</style>\n",
       "<table border=\"1\" class=\"dataframe\">\n",
       "  <thead>\n",
       "    <tr style=\"text-align: right;\">\n",
       "      <th></th>\n",
       "      <th>name</th>\n",
       "      <th>id</th>\n",
       "      <th>category</th>\n",
       "      <th>price</th>\n",
       "      <th>publication</th>\n",
       "    </tr>\n",
       "  </thead>\n",
       "  <tbody>\n",
       "    <tr>\n",
       "      <th>0</th>\n",
       "      <td>chambre a coucher</td>\n",
       "      <td>40008817</td>\n",
       "      <td>Meubles et décoration</td>\n",
       "      <td>1800.0</td>\n",
       "      <td>private</td>\n",
       "    </tr>\n",
       "    <tr>\n",
       "      <th>4</th>\n",
       "      <td>PS3 SLIM 360 GB</td>\n",
       "      <td>40008812</td>\n",
       "      <td>Jeux vidéo et consoles</td>\n",
       "      <td>1400.0</td>\n",
       "      <td>private</td>\n",
       "    </tr>\n",
       "    <tr>\n",
       "      <th>5</th>\n",
       "      <td>Need For Speed Heat Xbox One Neuf</td>\n",
       "      <td>39955729</td>\n",
       "      <td>Jeux vidéo et consoles</td>\n",
       "      <td>549.0</td>\n",
       "      <td>pro</td>\n",
       "    </tr>\n",
       "    <tr>\n",
       "      <th>7</th>\n",
       "      <td>Nikel</td>\n",
       "      <td>40008809</td>\n",
       "      <td>Voitures</td>\n",
       "      <td>75000.0</td>\n",
       "      <td>private</td>\n",
       "    </tr>\n",
       "    <tr>\n",
       "      <th>8</th>\n",
       "      <td>compte free fire</td>\n",
       "      <td>40008808</td>\n",
       "      <td>Jeux vidéo et consoles</td>\n",
       "      <td>170.0</td>\n",
       "      <td>private</td>\n",
       "    </tr>\n",
       "  </tbody>\n",
       "</table>\n",
       "</div>"
      ],
      "text/plain": [
       "                                name        id                 category  \\\n",
       "0                 chambre a coucher   40008817   Meubles et décoration    \n",
       "4                   PS3 SLIM 360 GB   40008812  Jeux vidéo et consoles    \n",
       "5  Need For Speed Heat Xbox One Neuf  39955729  Jeux vidéo et consoles    \n",
       "7                              Nikel  40008809                Voitures    \n",
       "8                   compte free fire  40008808  Jeux vidéo et consoles    \n",
       "\n",
       "     price publication  \n",
       "0   1800.0     private  \n",
       "4   1400.0     private  \n",
       "5    549.0         pro  \n",
       "7  75000.0     private  \n",
       "8    170.0     private  "
      ]
     },
     "execution_count": 33,
     "metadata": {},
     "output_type": "execute_result"
    }
   ],
   "source": [
    "df.head()"
   ]
  },
  {
   "cell_type": "code",
   "execution_count": 34,
   "id": "9a8d6c6f",
   "metadata": {},
   "outputs": [
    {
     "data": {
      "text/plain": [
       "406"
      ]
     },
     "execution_count": 34,
     "metadata": {},
     "output_type": "execute_result"
    }
   ],
   "source": [
    "#chacking and removing duplicates\n",
    "df.duplicated().sum()"
   ]
  },
  {
   "cell_type": "code",
   "execution_count": 35,
   "id": "e01bd4ee",
   "metadata": {},
   "outputs": [],
   "source": [
    "df.drop_duplicates(inplace=True)"
   ]
  },
  {
   "cell_type": "code",
   "execution_count": 36,
   "id": "de98cd39",
   "metadata": {},
   "outputs": [
    {
     "data": {
      "text/html": [
       "<div>\n",
       "<style scoped>\n",
       "    .dataframe tbody tr th:only-of-type {\n",
       "        vertical-align: middle;\n",
       "    }\n",
       "\n",
       "    .dataframe tbody tr th {\n",
       "        vertical-align: top;\n",
       "    }\n",
       "\n",
       "    .dataframe thead th {\n",
       "        text-align: right;\n",
       "    }\n",
       "</style>\n",
       "<table border=\"1\" class=\"dataframe\">\n",
       "  <thead>\n",
       "    <tr style=\"text-align: right;\">\n",
       "      <th></th>\n",
       "      <th>name</th>\n",
       "      <th>id</th>\n",
       "      <th>category</th>\n",
       "      <th>price</th>\n",
       "      <th>publication</th>\n",
       "    </tr>\n",
       "  </thead>\n",
       "  <tbody>\n",
       "    <tr>\n",
       "      <th>0</th>\n",
       "      <td>chambre a coucher</td>\n",
       "      <td>40008817</td>\n",
       "      <td>Meubles et décoration</td>\n",
       "      <td>1800.0</td>\n",
       "      <td>private</td>\n",
       "    </tr>\n",
       "    <tr>\n",
       "      <th>4</th>\n",
       "      <td>PS3 SLIM 360 GB</td>\n",
       "      <td>40008812</td>\n",
       "      <td>Jeux vidéo et consoles</td>\n",
       "      <td>1400.0</td>\n",
       "      <td>private</td>\n",
       "    </tr>\n",
       "    <tr>\n",
       "      <th>5</th>\n",
       "      <td>Need For Speed Heat Xbox One Neuf</td>\n",
       "      <td>39955729</td>\n",
       "      <td>Jeux vidéo et consoles</td>\n",
       "      <td>549.0</td>\n",
       "      <td>pro</td>\n",
       "    </tr>\n",
       "    <tr>\n",
       "      <th>7</th>\n",
       "      <td>Nikel</td>\n",
       "      <td>40008809</td>\n",
       "      <td>Voitures</td>\n",
       "      <td>75000.0</td>\n",
       "      <td>private</td>\n",
       "    </tr>\n",
       "    <tr>\n",
       "      <th>8</th>\n",
       "      <td>compte free fire</td>\n",
       "      <td>40008808</td>\n",
       "      <td>Jeux vidéo et consoles</td>\n",
       "      <td>170.0</td>\n",
       "      <td>private</td>\n",
       "    </tr>\n",
       "  </tbody>\n",
       "</table>\n",
       "</div>"
      ],
      "text/plain": [
       "                                name        id                 category  \\\n",
       "0                 chambre a coucher   40008817   Meubles et décoration    \n",
       "4                   PS3 SLIM 360 GB   40008812  Jeux vidéo et consoles    \n",
       "5  Need For Speed Heat Xbox One Neuf  39955729  Jeux vidéo et consoles    \n",
       "7                              Nikel  40008809                Voitures    \n",
       "8                   compte free fire  40008808  Jeux vidéo et consoles    \n",
       "\n",
       "     price publication  \n",
       "0   1800.0     private  \n",
       "4   1400.0     private  \n",
       "5    549.0         pro  \n",
       "7  75000.0     private  \n",
       "8    170.0     private  "
      ]
     },
     "execution_count": 36,
     "metadata": {},
     "output_type": "execute_result"
    }
   ],
   "source": [
    "df.head()"
   ]
  },
  {
   "cell_type": "code",
   "execution_count": 37,
   "id": "ddac4838",
   "metadata": {},
   "outputs": [],
   "source": [
    "#let's convert the columns of interest to a list\n",
    "df['category'] = df['category'].apply(lambda x:x.split())\n",
    "df['publication'] = df['publication'].apply(lambda x:x.split())"
   ]
  },
  {
   "cell_type": "code",
   "execution_count": 38,
   "id": "c9617dcc",
   "metadata": {},
   "outputs": [
    {
     "data": {
      "text/html": [
       "<div>\n",
       "<style scoped>\n",
       "    .dataframe tbody tr th:only-of-type {\n",
       "        vertical-align: middle;\n",
       "    }\n",
       "\n",
       "    .dataframe tbody tr th {\n",
       "        vertical-align: top;\n",
       "    }\n",
       "\n",
       "    .dataframe thead th {\n",
       "        text-align: right;\n",
       "    }\n",
       "</style>\n",
       "<table border=\"1\" class=\"dataframe\">\n",
       "  <thead>\n",
       "    <tr style=\"text-align: right;\">\n",
       "      <th></th>\n",
       "      <th>name</th>\n",
       "      <th>id</th>\n",
       "      <th>category</th>\n",
       "      <th>price</th>\n",
       "      <th>publication</th>\n",
       "    </tr>\n",
       "  </thead>\n",
       "  <tbody>\n",
       "    <tr>\n",
       "      <th>0</th>\n",
       "      <td>chambre a coucher</td>\n",
       "      <td>40008817</td>\n",
       "      <td>[Meubles, et, décoration]</td>\n",
       "      <td>1800.0</td>\n",
       "      <td>[private]</td>\n",
       "    </tr>\n",
       "    <tr>\n",
       "      <th>4</th>\n",
       "      <td>PS3 SLIM 360 GB</td>\n",
       "      <td>40008812</td>\n",
       "      <td>[Jeux, vidéo, et, consoles]</td>\n",
       "      <td>1400.0</td>\n",
       "      <td>[private]</td>\n",
       "    </tr>\n",
       "    <tr>\n",
       "      <th>5</th>\n",
       "      <td>Need For Speed Heat Xbox One Neuf</td>\n",
       "      <td>39955729</td>\n",
       "      <td>[Jeux, vidéo, et, consoles]</td>\n",
       "      <td>549.0</td>\n",
       "      <td>[pro]</td>\n",
       "    </tr>\n",
       "  </tbody>\n",
       "</table>\n",
       "</div>"
      ],
      "text/plain": [
       "                                name        id                     category  \\\n",
       "0                 chambre a coucher   40008817    [Meubles, et, décoration]   \n",
       "4                   PS3 SLIM 360 GB   40008812  [Jeux, vidéo, et, consoles]   \n",
       "5  Need For Speed Heat Xbox One Neuf  39955729  [Jeux, vidéo, et, consoles]   \n",
       "\n",
       "    price publication  \n",
       "0  1800.0   [private]  \n",
       "4  1400.0   [private]  \n",
       "5   549.0       [pro]  "
      ]
     },
     "execution_count": 38,
     "metadata": {},
     "output_type": "execute_result"
    }
   ],
   "source": [
    "df.head(3)"
   ]
  },
  {
   "cell_type": "code",
   "execution_count": 39,
   "id": "423cd0bf",
   "metadata": {},
   "outputs": [],
   "source": [
    "#combining columns into one so that we can perform vectorization\n",
    "df['content'] = df['category'] + df['publication']"
   ]
  },
  {
   "cell_type": "code",
   "execution_count": 40,
   "id": "ae52fb4d",
   "metadata": {},
   "outputs": [],
   "source": [
    "df.drop(columns=['category','publication'],inplace=True)"
   ]
  },
  {
   "cell_type": "code",
   "execution_count": 41,
   "id": "e1d350af",
   "metadata": {},
   "outputs": [
    {
     "data": {
      "text/html": [
       "<div>\n",
       "<style scoped>\n",
       "    .dataframe tbody tr th:only-of-type {\n",
       "        vertical-align: middle;\n",
       "    }\n",
       "\n",
       "    .dataframe tbody tr th {\n",
       "        vertical-align: top;\n",
       "    }\n",
       "\n",
       "    .dataframe thead th {\n",
       "        text-align: right;\n",
       "    }\n",
       "</style>\n",
       "<table border=\"1\" class=\"dataframe\">\n",
       "  <thead>\n",
       "    <tr style=\"text-align: right;\">\n",
       "      <th></th>\n",
       "      <th>name</th>\n",
       "      <th>id</th>\n",
       "      <th>price</th>\n",
       "      <th>content</th>\n",
       "    </tr>\n",
       "  </thead>\n",
       "  <tbody>\n",
       "    <tr>\n",
       "      <th>0</th>\n",
       "      <td>chambre a coucher</td>\n",
       "      <td>40008817</td>\n",
       "      <td>1800.0</td>\n",
       "      <td>[Meubles, et, décoration, private]</td>\n",
       "    </tr>\n",
       "    <tr>\n",
       "      <th>4</th>\n",
       "      <td>PS3 SLIM 360 GB</td>\n",
       "      <td>40008812</td>\n",
       "      <td>1400.0</td>\n",
       "      <td>[Jeux, vidéo, et, consoles, private]</td>\n",
       "    </tr>\n",
       "    <tr>\n",
       "      <th>5</th>\n",
       "      <td>Need For Speed Heat Xbox One Neuf</td>\n",
       "      <td>39955729</td>\n",
       "      <td>549.0</td>\n",
       "      <td>[Jeux, vidéo, et, consoles, pro]</td>\n",
       "    </tr>\n",
       "    <tr>\n",
       "      <th>7</th>\n",
       "      <td>Nikel</td>\n",
       "      <td>40008809</td>\n",
       "      <td>75000.0</td>\n",
       "      <td>[Voitures, private]</td>\n",
       "    </tr>\n",
       "    <tr>\n",
       "      <th>8</th>\n",
       "      <td>compte free fire</td>\n",
       "      <td>40008808</td>\n",
       "      <td>170.0</td>\n",
       "      <td>[Jeux, vidéo, et, consoles, private]</td>\n",
       "    </tr>\n",
       "  </tbody>\n",
       "</table>\n",
       "</div>"
      ],
      "text/plain": [
       "                                name        id    price  \\\n",
       "0                 chambre a coucher   40008817   1800.0   \n",
       "4                   PS3 SLIM 360 GB   40008812   1400.0   \n",
       "5  Need For Speed Heat Xbox One Neuf  39955729    549.0   \n",
       "7                              Nikel  40008809  75000.0   \n",
       "8                   compte free fire  40008808    170.0   \n",
       "\n",
       "                                content  \n",
       "0    [Meubles, et, décoration, private]  \n",
       "4  [Jeux, vidéo, et, consoles, private]  \n",
       "5      [Jeux, vidéo, et, consoles, pro]  \n",
       "7                   [Voitures, private]  \n",
       "8  [Jeux, vidéo, et, consoles, private]  "
      ]
     },
     "execution_count": 41,
     "metadata": {},
     "output_type": "execute_result"
    }
   ],
   "source": [
    "df.head()"
   ]
  },
  {
   "cell_type": "code",
   "execution_count": 42,
   "id": "4a166b2c",
   "metadata": {},
   "outputs": [
    {
     "data": {
      "text/html": [
       "<div>\n",
       "<style scoped>\n",
       "    .dataframe tbody tr th:only-of-type {\n",
       "        vertical-align: middle;\n",
       "    }\n",
       "\n",
       "    .dataframe tbody tr th {\n",
       "        vertical-align: top;\n",
       "    }\n",
       "\n",
       "    .dataframe thead th {\n",
       "        text-align: right;\n",
       "    }\n",
       "</style>\n",
       "<table border=\"1\" class=\"dataframe\">\n",
       "  <thead>\n",
       "    <tr style=\"text-align: right;\">\n",
       "      <th></th>\n",
       "      <th>name</th>\n",
       "      <th>id</th>\n",
       "      <th>price</th>\n",
       "      <th>content</th>\n",
       "    </tr>\n",
       "  </thead>\n",
       "  <tbody>\n",
       "    <tr>\n",
       "      <th>0</th>\n",
       "      <td>chambre a coucher</td>\n",
       "      <td>40008817</td>\n",
       "      <td>1800.0</td>\n",
       "      <td>Meubles et décoration private</td>\n",
       "    </tr>\n",
       "    <tr>\n",
       "      <th>4</th>\n",
       "      <td>PS3 SLIM 360 GB</td>\n",
       "      <td>40008812</td>\n",
       "      <td>1400.0</td>\n",
       "      <td>Jeux vidéo et consoles private</td>\n",
       "    </tr>\n",
       "    <tr>\n",
       "      <th>5</th>\n",
       "      <td>Need For Speed Heat Xbox One Neuf</td>\n",
       "      <td>39955729</td>\n",
       "      <td>549.0</td>\n",
       "      <td>Jeux vidéo et consoles pro</td>\n",
       "    </tr>\n",
       "    <tr>\n",
       "      <th>7</th>\n",
       "      <td>Nikel</td>\n",
       "      <td>40008809</td>\n",
       "      <td>75000.0</td>\n",
       "      <td>Voitures private</td>\n",
       "    </tr>\n",
       "    <tr>\n",
       "      <th>8</th>\n",
       "      <td>compte free fire</td>\n",
       "      <td>40008808</td>\n",
       "      <td>170.0</td>\n",
       "      <td>Jeux vidéo et consoles private</td>\n",
       "    </tr>\n",
       "  </tbody>\n",
       "</table>\n",
       "</div>"
      ],
      "text/plain": [
       "                                name        id    price  \\\n",
       "0                 chambre a coucher   40008817   1800.0   \n",
       "4                   PS3 SLIM 360 GB   40008812   1400.0   \n",
       "5  Need For Speed Heat Xbox One Neuf  39955729    549.0   \n",
       "7                              Nikel  40008809  75000.0   \n",
       "8                   compte free fire  40008808    170.0   \n",
       "\n",
       "                          content  \n",
       "0   Meubles et décoration private  \n",
       "4  Jeux vidéo et consoles private  \n",
       "5      Jeux vidéo et consoles pro  \n",
       "7                Voitures private  \n",
       "8  Jeux vidéo et consoles private  "
      ]
     },
     "execution_count": 42,
     "metadata": {},
     "output_type": "execute_result"
    }
   ],
   "source": [
    "# making the column in paragraph form\n",
    "df['content'] = df['content'].apply(lambda x:\" \".join(x))\n",
    "df.head()"
   ]
  },
  {
   "cell_type": "code",
   "execution_count": 43,
   "id": "5c3d900f",
   "metadata": {},
   "outputs": [],
   "source": [
    "#lowercasing\n",
    "df['content'] = df['content'].str.lower()"
   ]
  },
  {
   "cell_type": "code",
   "execution_count": 44,
   "id": "74a9351f",
   "metadata": {},
   "outputs": [],
   "source": [
    "df.reset_index(drop=True,inplace=True)"
   ]
  },
  {
   "cell_type": "code",
   "execution_count": 45,
   "id": "ac5f88bb",
   "metadata": {},
   "outputs": [],
   "source": [
    "from sklearn.feature_extraction.text import TfidfVectorizer\n",
    "from sklearn.metrics.pairwise import sigmoid_kernel,cosine_similarity"
   ]
  },
  {
   "cell_type": "code",
   "execution_count": 46,
   "id": "4b460303",
   "metadata": {},
   "outputs": [],
   "source": [
    "#creating a matrix\n",
    "vect = TfidfVectorizer()\n",
    "matrix = vect.fit_transform(df['content'])"
   ]
  },
  {
   "cell_type": "code",
   "execution_count": 47,
   "id": "31f2923e",
   "metadata": {},
   "outputs": [],
   "source": [
    "#defining similarity\n",
    "sim = cosine_similarity(matrix)"
   ]
  },
  {
   "cell_type": "code",
   "execution_count": 48,
   "id": "3787ab65",
   "metadata": {},
   "outputs": [
    {
     "data": {
      "text/plain": [
       "(2563, 2563)"
      ]
     },
     "execution_count": 48,
     "metadata": {},
     "output_type": "execute_result"
    }
   ],
   "source": [
    "sim.shape"
   ]
  },
  {
   "cell_type": "code",
   "execution_count": 49,
   "id": "651bb538",
   "metadata": {},
   "outputs": [
    {
     "data": {
      "text/plain": [
       "array([[1.        , 0.15130908, 0.10339205, ..., 0.04321001, 0.11621884,\n",
       "        0.11689159],\n",
       "       [0.15130908, 1.        , 0.95409795, ..., 0.03031219, 0.0815285 ,\n",
       "        0.08200044],\n",
       "       [0.10339205, 0.95409795, 1.        , ..., 0.        , 0.        ,\n",
       "        0.05603229],\n",
       "       ...,\n",
       "       [0.04321001, 0.03031219, 0.        , ..., 1.        , 0.07579945,\n",
       "        0.02341723],\n",
       "       [0.11621884, 0.0815285 , 0.        , ..., 0.07579945, 1.        ,\n",
       "        0.06298364],\n",
       "       [0.11689159, 0.08200044, 0.05603229, ..., 0.02341723, 0.06298364,\n",
       "        1.        ]])"
      ]
     },
     "execution_count": 49,
     "metadata": {},
     "output_type": "execute_result"
    }
   ],
   "source": [
    "sim"
   ]
  },
  {
   "cell_type": "code",
   "execution_count": 55,
   "id": "6620fc2b",
   "metadata": {},
   "outputs": [],
   "source": [
    "#making recommendation\n",
    "def reccomend(new_product):\n",
    "    ind = df[df['name'] == new_product].index[0]\n",
    "    distance = sorted(list(enumerate(sim[ind])),reverse = True,key = lambda x: x[1])\n",
    "    for i in distance[1:6]:\n",
    "        print(df['name'].iloc[i[0]])"
   ]
  },
  {
   "cell_type": "code",
   "execution_count": 56,
   "id": "541ae133",
   "metadata": {},
   "outputs": [
    {
     "name": "stdout",
     "output_type": "stream",
     "text": [
      "Nikel\n",
      "Dacia Logan \n",
      "Audi A3 finition Sline\n",
      "kia picanto\n",
      "fiat 500 automatique\n"
     ]
    }
   ],
   "source": [
    "reccomend('Nikel')"
   ]
  },
  {
   "cell_type": "markdown",
   "id": "c564357f",
   "metadata": {},
   "source": [
    "### Saving models"
   ]
  },
  {
   "cell_type": "code",
   "execution_count": 61,
   "id": "a5b940ce",
   "metadata": {},
   "outputs": [],
   "source": [
    "import pickle\n",
    "pickle.dump(df,open('products.pkl','wb'))\n",
    "pickle.dump(sim,open('cos_similarity.pkl','wb'))"
   ]
  },
  {
   "cell_type": "code",
   "execution_count": null,
   "id": "48dec3a6",
   "metadata": {},
   "outputs": [],
   "source": []
  }
 ],
 "metadata": {
  "kernelspec": {
   "display_name": "Python 3 (ipykernel)",
   "language": "python",
   "name": "python3"
  },
  "language_info": {
   "codemirror_mode": {
    "name": "ipython",
    "version": 3
   },
   "file_extension": ".py",
   "mimetype": "text/x-python",
   "name": "python",
   "nbconvert_exporter": "python",
   "pygments_lexer": "ipython3",
   "version": "3.10.9"
  }
 },
 "nbformat": 4,
 "nbformat_minor": 5
}
